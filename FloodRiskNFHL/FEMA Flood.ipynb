{
 "cells": [
  {
   "cell_type": "code",
   "execution_count": 1,
   "metadata": {},
   "outputs": [],
   "source": [
    "FLAG_GEOCODE = False"
   ]
  },
  {
   "cell_type": "markdown",
   "metadata": {},
   "source": [
    "## Data acquisition"
   ]
  },
  {
   "cell_type": "markdown",
   "metadata": {},
   "source": [
    "[FEMA Nnational Flood hazard Layer (NFHL) data download](https://msc.fema.gov/portal/advanceSearch#searchresultsanchor)\n",
    "\n",
    "[FEMA Nnational Flood hazard Layer (NFHL) interactive viewer](https://hazards-fema.maps.arcgis.com/apps/webappviewer/index.html?id=8b0adb51996444d4879338b5529aa9cd)"
   ]
  },
  {
   "cell_type": "code",
   "execution_count": 2,
   "metadata": {},
   "outputs": [],
   "source": [
    "import utils\n",
    "import pandas as pd\n",
    "import geopandas as gpd\n",
    "from shapely.geometry import Point\n",
    "import numpy as np"
   ]
  },
  {
   "cell_type": "markdown",
   "metadata": {},
   "source": [
    "Load FEMA Flood Zone Shapefile\n",
    "Look for something like 'X500' or '0.2 PCT ANNUAL CHANCE FLOOD HAZARD'."
   ]
  },
  {
   "cell_type": "code",
   "execution_count": 3,
   "metadata": {},
   "outputs": [],
   "source": [
    "# Load FEMA flood zones\n",
    "flood_zones = {}\n",
    "flood_zones['ny_albany'] = gpd.read_file(\"data//36001C_20190306_ny_albany//S_FLD_HAZ_AR.shp\")[['FLD_ZONE', 'ZONE_SUBTY', 'geometry']]\n",
    "flood_zones['ct_fairfield'] = gpd.read_file(\"data//09001C_20250115_ct_fairfield//S_FLD_HAZ_AR.shp\")[['FLD_ZONE', 'ZONE_SUBTY', 'geometry']]"
   ]
  },
  {
   "cell_type": "markdown",
   "metadata": {},
   "source": [
    "## EDA"
   ]
  },
  {
   "cell_type": "code",
   "execution_count": 5,
   "metadata": {},
   "outputs": [
    {
     "name": "stdout",
     "output_type": "stream",
     "text": [
      "unique FLD_ZONE: ['X' 'AE' 'A' 'AO']\n",
      "unique ZONE_SUBTY: ['0.2 PCT ANNUAL CHANCE FLOOD HAZARD' None 'AREA OF MINIMAL FLOOD HAZARD'\n",
      " 'FLOODWAY']\n"
     ]
    },
    {
     "data": {
      "text/html": [
       "<div>\n",
       "<style scoped>\n",
       "    .dataframe tbody tr th:only-of-type {\n",
       "        vertical-align: middle;\n",
       "    }\n",
       "\n",
       "    .dataframe tbody tr th {\n",
       "        vertical-align: top;\n",
       "    }\n",
       "\n",
       "    .dataframe thead th {\n",
       "        text-align: right;\n",
       "    }\n",
       "</style>\n",
       "<table border=\"1\" class=\"dataframe\">\n",
       "  <thead>\n",
       "    <tr style=\"text-align: right;\">\n",
       "      <th></th>\n",
       "      <th>FLD_ZONE</th>\n",
       "      <th>ZONE_SUBTY</th>\n",
       "      <th>FLD_ZONE == ZONE_SUBTY</th>\n",
       "    </tr>\n",
       "  </thead>\n",
       "  <tbody>\n",
       "    <tr>\n",
       "      <th>0</th>\n",
       "      <td>X</td>\n",
       "      <td>0.2 PCT ANNUAL CHANCE FLOOD HAZARD</td>\n",
       "      <td>True</td>\n",
       "    </tr>\n",
       "    <tr>\n",
       "      <th>1</th>\n",
       "      <td>AE</td>\n",
       "      <td>None</td>\n",
       "      <td>False</td>\n",
       "    </tr>\n",
       "    <tr>\n",
       "      <th>2</th>\n",
       "      <td>X</td>\n",
       "      <td>0.2 PCT ANNUAL CHANCE FLOOD HAZARD</td>\n",
       "      <td>True</td>\n",
       "    </tr>\n",
       "    <tr>\n",
       "      <th>3</th>\n",
       "      <td>AE</td>\n",
       "      <td>None</td>\n",
       "      <td>False</td>\n",
       "    </tr>\n",
       "    <tr>\n",
       "      <th>4</th>\n",
       "      <td>AE</td>\n",
       "      <td>None</td>\n",
       "      <td>False</td>\n",
       "    </tr>\n",
       "  </tbody>\n",
       "</table>\n",
       "</div>"
      ],
      "text/plain": [
       "  FLD_ZONE                          ZONE_SUBTY  FLD_ZONE == ZONE_SUBTY\n",
       "0        X  0.2 PCT ANNUAL CHANCE FLOOD HAZARD                    True\n",
       "1       AE                                None                   False\n",
       "2        X  0.2 PCT ANNUAL CHANCE FLOOD HAZARD                    True\n",
       "3       AE                                None                   False\n",
       "4       AE                                None                   False"
      ]
     },
     "execution_count": 5,
     "metadata": {},
     "output_type": "execute_result"
    }
   ],
   "source": [
    "print(f'unique FLD_ZONE: {flood_zones[\"ny_albany\"][\"FLD_ZONE\"].unique()}')\n",
    "print(f'unique ZONE_SUBTY: {flood_zones[\"ny_albany\"][\"ZONE_SUBTY\"].unique()}')\n",
    "\n",
    "# compare ZONE_SUBTY and FLD_ZONE:\n",
    "df = flood_zones['ny_albany'].copy()\n",
    "df[\"FLD_ZONE == ZONE_SUBTY\"] = (df[\"FLD_ZONE\"].str.contains(\"X\", case=False).values == df[\"ZONE_SUBTY\"].str.contains(\"0.2 pct\", case=False).values)\n",
    "df[[\"FLD_ZONE\", \"ZONE_SUBTY\", \"FLD_ZONE == ZONE_SUBTY\"]].head()"
   ]
  },
  {
   "cell_type": "markdown",
   "metadata": {},
   "source": [
    "| Column       | Purpose                                                            |\n",
    "| ------------ | ------------------------------------------------------------------ |\n",
    "| `FLD_ZONE`   | Main flood zone classification (e.g. X500, AE)                     |\n",
    "| `ZONE_SUBTY` | Subtype, e.g. \"0.2 PCT ANNUAL CHANCE...\"                           |\n",
    "| `SFHA_TF`    | Special Flood Hazard Area: `T` if in high-risk 100-year floodplain |\n",
    "| `STATIC_BFE` | Base Flood Elevation (if available)                                |\n",
    "| `geometry`   | Polygon geometry for spatial join                                  |\n",
    "\n",
    "__Zones show up as:__\n",
    "- ZONE_SUBTY = \"0.2 pct annual chance flood hazard\"\n",
    "- FLD_ZONE = \"X\",\n",
    "- or sometimes FLD_ZONE = \"X500\" in older maps"
   ]
  },
  {
   "cell_type": "markdown",
   "metadata": {},
   "source": [
    "## Filter the 100- and 500-Year Flood Zones"
   ]
  },
  {
   "cell_type": "code",
   "execution_count": 6,
   "metadata": {},
   "outputs": [
    {
     "data": {
      "text/html": [
       "<div>\n",
       "<style scoped>\n",
       "    .dataframe tbody tr th:only-of-type {\n",
       "        vertical-align: middle;\n",
       "    }\n",
       "\n",
       "    .dataframe tbody tr th {\n",
       "        vertical-align: top;\n",
       "    }\n",
       "\n",
       "    .dataframe thead th {\n",
       "        text-align: right;\n",
       "    }\n",
       "</style>\n",
       "<table border=\"1\" class=\"dataframe\">\n",
       "  <thead>\n",
       "    <tr style=\"text-align: right;\">\n",
       "      <th></th>\n",
       "      <th>geometry</th>\n",
       "      <th>rp100</th>\n",
       "      <th>rp500</th>\n",
       "    </tr>\n",
       "  </thead>\n",
       "  <tbody>\n",
       "    <tr>\n",
       "      <th>0</th>\n",
       "      <td>POLYGON ((-74.07049 42.48556, -74.07049 42.485...</td>\n",
       "      <td>False</td>\n",
       "      <td>True</td>\n",
       "    </tr>\n",
       "    <tr>\n",
       "      <th>1</th>\n",
       "      <td>POLYGON ((-74.03238 42.50037, -74.03237 42.500...</td>\n",
       "      <td>True</td>\n",
       "      <td>False</td>\n",
       "    </tr>\n",
       "  </tbody>\n",
       "</table>\n",
       "</div>"
      ],
      "text/plain": [
       "                                            geometry  rp100  rp500\n",
       "0  POLYGON ((-74.07049 42.48556, -74.07049 42.485...  False   True\n",
       "1  POLYGON ((-74.03238 42.50037, -74.03237 42.500...   True  False"
      ]
     },
     "execution_count": 6,
     "metadata": {},
     "output_type": "execute_result"
    }
   ],
   "source": [
    "for state_county in flood_zones.keys():\n",
    "    df = flood_zones[state_county]\n",
    "    df['rp100'] = df['FLD_ZONE'].isin(['A', 'AE', 'AO'])\n",
    "\n",
    "    df['rp500'] = (\n",
    "    # df['FLD_ZONE'].str.contains('X', case=False, na=False) |\n",
    "    df['ZONE_SUBTY'].str.contains('0.2 pct', case=False, na=False)\n",
    "    )\n",
    "\n",
    "    df.drop(columns=['FLD_ZONE', 'ZONE_SUBTY'], inplace=True)\n",
    "\n",
    "flood_zones[\"ny_albany\"].head(2)"
   ]
  },
  {
   "cell_type": "code",
   "execution_count": 8,
   "metadata": {},
   "outputs": [
    {
     "data": {
      "text/html": [
       "<div>\n",
       "<style scoped>\n",
       "    .dataframe tbody tr th:only-of-type {\n",
       "        vertical-align: middle;\n",
       "    }\n",
       "\n",
       "    .dataframe tbody tr th {\n",
       "        vertical-align: top;\n",
       "    }\n",
       "\n",
       "    .dataframe thead th {\n",
       "        text-align: right;\n",
       "    }\n",
       "</style>\n",
       "<table border=\"1\" class=\"dataframe\">\n",
       "  <thead>\n",
       "    <tr style=\"text-align: right;\">\n",
       "      <th></th>\n",
       "      <th>id</th>\n",
       "      <th>address</th>\n",
       "      <th>description</th>\n",
       "      <th>lat_true</th>\n",
       "      <th>lon_true</th>\n",
       "    </tr>\n",
       "  </thead>\n",
       "  <tbody>\n",
       "    <tr>\n",
       "      <th>0</th>\n",
       "      <td>1</td>\n",
       "      <td>1 Reef Rd, Fairfield, CT 06824</td>\n",
       "      <td>(outside)</td>\n",
       "      <td>41.140852</td>\n",
       "      <td>-73.25729</td>\n",
       "    </tr>\n",
       "  </tbody>\n",
       "</table>\n",
       "</div>"
      ],
      "text/plain": [
       "   id                         address description   lat_true  lon_true\n",
       "0   1  1 Reef Rd, Fairfield, CT 06824   (outside)  41.140852 -73.25729"
      ]
     },
     "execution_count": 8,
     "metadata": {},
     "output_type": "execute_result"
    }
   ],
   "source": [
    "assets = {}\n",
    "assets['ny_albany'] = pd.read_csv(\"data/assets_ny_albany.csv\")\n",
    "assets['ct_fairfield'] = pd.read_csv(\"data/assets_ct_fairfield.csv\")\n",
    "assets['ct_fairfield'].head(1)"
   ]
  },
  {
   "cell_type": "markdown",
   "metadata": {},
   "source": [
    "## Geocode the Addresses to Lat/Lon Points"
   ]
  },
  {
   "cell_type": "code",
   "execution_count": 10,
   "metadata": {},
   "outputs": [
    {
     "data": {
      "text/html": [
       "<div>\n",
       "<style scoped>\n",
       "    .dataframe tbody tr th:only-of-type {\n",
       "        vertical-align: middle;\n",
       "    }\n",
       "\n",
       "    .dataframe tbody tr th {\n",
       "        vertical-align: top;\n",
       "    }\n",
       "\n",
       "    .dataframe thead th {\n",
       "        text-align: right;\n",
       "    }\n",
       "</style>\n",
       "<table border=\"1\" class=\"dataframe\">\n",
       "  <thead>\n",
       "    <tr style=\"text-align: right;\">\n",
       "      <th></th>\n",
       "      <th>id</th>\n",
       "      <th>address</th>\n",
       "      <th>description</th>\n",
       "      <th>lat_true</th>\n",
       "      <th>lon_true</th>\n",
       "      <th>lat</th>\n",
       "      <th>lon</th>\n",
       "    </tr>\n",
       "  </thead>\n",
       "  <tbody>\n",
       "    <tr>\n",
       "      <th>0</th>\n",
       "      <td>1</td>\n",
       "      <td>1 Reef Rd, Fairfield, CT 06824</td>\n",
       "      <td>(outside)</td>\n",
       "      <td>41.140852</td>\n",
       "      <td>-73.25729</td>\n",
       "      <td>41.140852</td>\n",
       "      <td>-73.25729</td>\n",
       "    </tr>\n",
       "  </tbody>\n",
       "</table>\n",
       "</div>"
      ],
      "text/plain": [
       "   id                         address description   lat_true  lon_true  \\\n",
       "0   1  1 Reef Rd, Fairfield, CT 06824   (outside)  41.140852 -73.25729   \n",
       "\n",
       "         lat       lon  \n",
       "0  41.140852 -73.25729  "
      ]
     },
     "execution_count": 10,
     "metadata": {},
     "output_type": "execute_result"
    }
   ],
   "source": [
    "# Geocode each address with retry logic (📌if have lat/lon coordinates - skip geocoding)\n",
    "if FLAG_GEOCODE:\n",
    "    for state_county in assets.keys():\n",
    "        utils.geocode_assets(assets[state_county], max_retries=3, timeout=3, sleep_time=2)\n",
    "        assets[state_county].to_csv(f\"data/assets_{state_county}_geocoded.csv\", index=False)\n",
    "else:\n",
    "    for state_county in assets.keys():\n",
    "        assets[state_county] = pd.read_csv(f\"data/assets_{state_county}_geocoded.csv\")\n",
    "assets['ct_fairfield'].head(1)"
   ]
  },
  {
   "cell_type": "code",
   "execution_count": 11,
   "metadata": {},
   "outputs": [
    {
     "data": {
      "text/html": [
       "<div>\n",
       "<style scoped>\n",
       "    .dataframe tbody tr th:only-of-type {\n",
       "        vertical-align: middle;\n",
       "    }\n",
       "\n",
       "    .dataframe tbody tr th {\n",
       "        vertical-align: top;\n",
       "    }\n",
       "\n",
       "    .dataframe thead th {\n",
       "        text-align: right;\n",
       "    }\n",
       "</style>\n",
       "<table border=\"1\" class=\"dataframe\">\n",
       "  <thead>\n",
       "    <tr style=\"text-align: right;\">\n",
       "      <th></th>\n",
       "      <th>id</th>\n",
       "      <th>address</th>\n",
       "      <th>description</th>\n",
       "      <th>geometry</th>\n",
       "    </tr>\n",
       "  </thead>\n",
       "  <tbody>\n",
       "    <tr>\n",
       "      <th>0</th>\n",
       "      <td>1</td>\n",
       "      <td>1 Reef Rd, Fairfield, CT 06824</td>\n",
       "      <td>(outside)</td>\n",
       "      <td>POINT (-73.25729 41.14085)</td>\n",
       "    </tr>\n",
       "  </tbody>\n",
       "</table>\n",
       "</div>"
      ],
      "text/plain": [
       "   id                         address description                    geometry\n",
       "0   1  1 Reef Rd, Fairfield, CT 06824   (outside)  POINT (-73.25729 41.14085)"
      ]
     },
     "execution_count": 11,
     "metadata": {},
     "output_type": "execute_result"
    }
   ],
   "source": [
    "# add geometry column\n",
    "for state_county in assets.keys():\n",
    "    assets[state_county] = utils.add_geometry_column(assets[state_county])\n",
    "    assets[state_county].drop(columns=['lat_true', 'lon_true', 'lat', 'lon'], inplace=True)\n",
    "assets['ct_fairfield'].head(1)"
   ]
  },
  {
   "cell_type": "markdown",
   "metadata": {},
   "source": [
    "Ensure Same CRS and Perform Spatial Join"
   ]
  },
  {
   "cell_type": "code",
   "execution_count": 12,
   "metadata": {},
   "outputs": [],
   "source": [
    "# Reproject FEMA flood zones to match address CRS if needed\n",
    "for state_county in assets.keys():\n",
    "    flood_zones[state_county] = flood_zones[state_county].to_crs(assets[state_county].crs)"
   ]
  },
  {
   "cell_type": "markdown",
   "metadata": {},
   "source": [
    "## Spatial Join of Flood_Zones & Asset_Locations"
   ]
  },
  {
   "cell_type": "code",
   "execution_count": 13,
   "metadata": {},
   "outputs": [
    {
     "data": {
      "text/html": [
       "<div>\n",
       "<style scoped>\n",
       "    .dataframe tbody tr th:only-of-type {\n",
       "        vertical-align: middle;\n",
       "    }\n",
       "\n",
       "    .dataframe tbody tr th {\n",
       "        vertical-align: top;\n",
       "    }\n",
       "\n",
       "    .dataframe thead th {\n",
       "        text-align: right;\n",
       "    }\n",
       "</style>\n",
       "<table border=\"1\" class=\"dataframe\">\n",
       "  <thead>\n",
       "    <tr style=\"text-align: right;\">\n",
       "      <th></th>\n",
       "      <th>id</th>\n",
       "      <th>address</th>\n",
       "      <th>description</th>\n",
       "      <th>geometry</th>\n",
       "      <th>rp100</th>\n",
       "      <th>rp500</th>\n",
       "      <th>flood_zone</th>\n",
       "    </tr>\n",
       "  </thead>\n",
       "  <tbody>\n",
       "    <tr>\n",
       "      <th>0</th>\n",
       "      <td>1</td>\n",
       "      <td>1 Reef Rd, Fairfield, CT 06824</td>\n",
       "      <td>(outside)</td>\n",
       "      <td>POINT (-73.25729 41.14085)</td>\n",
       "      <td>False</td>\n",
       "      <td>False</td>\n",
       "      <td>outside</td>\n",
       "    </tr>\n",
       "  </tbody>\n",
       "</table>\n",
       "</div>"
      ],
      "text/plain": [
       "   id                         address description                    geometry  \\\n",
       "0   1  1 Reef Rd, Fairfield, CT 06824   (outside)  POINT (-73.25729 41.14085)   \n",
       "\n",
       "   rp100  rp500 flood_zone  \n",
       "0  False  False    outside  "
      ]
     },
     "execution_count": 13,
     "metadata": {},
     "output_type": "execute_result"
    }
   ],
   "source": [
    "# Spatial join to find assets in RP100 flood zones: for them index_right is not null\n",
    "# Add boolean column: True if matched a polygon, else False\n",
    "for state_county in assets.keys():\n",
    "    assets[state_county]['rp100'] = gpd.sjoin(assets[state_county], \n",
    "                        flood_zones[state_county][flood_zones[state_county]['rp100']],\n",
    "                        how='left', predicate='intersects').index_right.notna()\n",
    "    assets[state_county]['rp500'] = gpd.sjoin(assets[state_county], \n",
    "                        flood_zones['ct_fairfield'][flood_zones['ct_fairfield']['rp500']],\n",
    "                        how='left', predicate='intersects').index_right.notna()\n",
    "    conditions = [assets[state_county]['rp100']==True, assets[state_county]['rp500']==True]\n",
    "    choices = ['rp100', 'rp500']\n",
    "    assets[state_county]['flood_zone'] = np.select(conditions, choices, default='outside')\n",
    "assets['ct_fairfield'].head(1)"
   ]
  },
  {
   "cell_type": "code",
   "execution_count": 14,
   "metadata": {},
   "outputs": [
    {
     "data": {
      "text/html": [
       "<div>\n",
       "<style scoped>\n",
       "    .dataframe tbody tr th:only-of-type {\n",
       "        vertical-align: middle;\n",
       "    }\n",
       "\n",
       "    .dataframe tbody tr th {\n",
       "        vertical-align: top;\n",
       "    }\n",
       "\n",
       "    .dataframe thead th {\n",
       "        text-align: right;\n",
       "    }\n",
       "</style>\n",
       "<table border=\"1\" class=\"dataframe\">\n",
       "  <thead>\n",
       "    <tr style=\"text-align: right;\">\n",
       "      <th></th>\n",
       "      <th>id</th>\n",
       "      <th>address</th>\n",
       "      <th>description</th>\n",
       "      <th>geometry</th>\n",
       "      <th>rp100</th>\n",
       "      <th>rp500</th>\n",
       "      <th>flood_zone</th>\n",
       "    </tr>\n",
       "  </thead>\n",
       "  <tbody>\n",
       "    <tr>\n",
       "      <th>0</th>\n",
       "      <td>1</td>\n",
       "      <td>1 Quay St, Albany, NY 12207</td>\n",
       "      <td>rp100</td>\n",
       "      <td>POINT (-73.74477 42.6537)</td>\n",
       "      <td>True</td>\n",
       "      <td>False</td>\n",
       "      <td>rp100</td>\n",
       "    </tr>\n",
       "    <tr>\n",
       "      <th>1</th>\n",
       "      <td>2</td>\n",
       "      <td>140 State St, Albany, NY 12207</td>\n",
       "      <td>outside</td>\n",
       "      <td>POINT (-73.7553 42.65093)</td>\n",
       "      <td>False</td>\n",
       "      <td>False</td>\n",
       "      <td>outside</td>\n",
       "    </tr>\n",
       "    <tr>\n",
       "      <th>2</th>\n",
       "      <td>3</td>\n",
       "      <td>44 Holland Ave, Albany, NY 12229</td>\n",
       "      <td>outside</td>\n",
       "      <td>POINT (-73.77375 42.64808)</td>\n",
       "      <td>False</td>\n",
       "      <td>False</td>\n",
       "      <td>outside</td>\n",
       "    </tr>\n",
       "    <tr>\n",
       "      <th>3</th>\n",
       "      <td>4</td>\n",
       "      <td>183 Schoolhouse Rd, Albany, NY 12203</td>\n",
       "      <td>outside</td>\n",
       "      <td>POINT (-73.84945 42.67324)</td>\n",
       "      <td>False</td>\n",
       "      <td>False</td>\n",
       "      <td>outside</td>\n",
       "    </tr>\n",
       "    <tr>\n",
       "      <th>4</th>\n",
       "      <td>5</td>\n",
       "      <td>42 S Dove St, Albany, NY 12202</td>\n",
       "      <td>outside</td>\n",
       "      <td>POINT (-73.77033 42.64167)</td>\n",
       "      <td>False</td>\n",
       "      <td>False</td>\n",
       "      <td>outside</td>\n",
       "    </tr>\n",
       "    <tr>\n",
       "      <th>5</th>\n",
       "      <td>6</td>\n",
       "      <td>11 N Pearl St, Albany, NY 12207</td>\n",
       "      <td>outside</td>\n",
       "      <td>POINT (-73.75194 42.65018)</td>\n",
       "      <td>False</td>\n",
       "      <td>False</td>\n",
       "      <td>outside</td>\n",
       "    </tr>\n",
       "    <tr>\n",
       "      <th>6</th>\n",
       "      <td>7</td>\n",
       "      <td>600 Broadway, Albany, NY 12207</td>\n",
       "      <td>rp500</td>\n",
       "      <td>POINT (-73.74961 42.65229)</td>\n",
       "      <td>False</td>\n",
       "      <td>False</td>\n",
       "      <td>outside</td>\n",
       "    </tr>\n",
       "    <tr>\n",
       "      <th>7</th>\n",
       "      <td>8</td>\n",
       "      <td>126 State St, Albany, NY 12207</td>\n",
       "      <td>outside</td>\n",
       "      <td>POINT (-73.75452 42.65068)</td>\n",
       "      <td>False</td>\n",
       "      <td>False</td>\n",
       "      <td>outside</td>\n",
       "    </tr>\n",
       "    <tr>\n",
       "      <th>8</th>\n",
       "      <td>9</td>\n",
       "      <td>186 Fuller Rd, Albany, NY 12205</td>\n",
       "      <td>outside</td>\n",
       "      <td>POINT (-73.82853 42.696)</td>\n",
       "      <td>False</td>\n",
       "      <td>False</td>\n",
       "      <td>outside</td>\n",
       "    </tr>\n",
       "    <tr>\n",
       "      <th>9</th>\n",
       "      <td>10</td>\n",
       "      <td>106 Smith Blvd, Albany, NY 12202</td>\n",
       "      <td>rp100</td>\n",
       "      <td>POINT (-73.75803 42.62648)</td>\n",
       "      <td>True</td>\n",
       "      <td>False</td>\n",
       "      <td>rp100</td>\n",
       "    </tr>\n",
       "  </tbody>\n",
       "</table>\n",
       "</div>"
      ],
      "text/plain": [
       "   id                               address description  \\\n",
       "0   1           1 Quay St, Albany, NY 12207       rp100   \n",
       "1   2        140 State St, Albany, NY 12207     outside   \n",
       "2   3      44 Holland Ave, Albany, NY 12229     outside   \n",
       "3   4  183 Schoolhouse Rd, Albany, NY 12203     outside   \n",
       "4   5        42 S Dove St, Albany, NY 12202     outside   \n",
       "5   6       11 N Pearl St, Albany, NY 12207     outside   \n",
       "6   7        600 Broadway, Albany, NY 12207       rp500   \n",
       "7   8        126 State St, Albany, NY 12207     outside   \n",
       "8   9       186 Fuller Rd, Albany, NY 12205     outside   \n",
       "9  10      106 Smith Blvd, Albany, NY 12202       rp100   \n",
       "\n",
       "                     geometry  rp100  rp500 flood_zone  \n",
       "0   POINT (-73.74477 42.6537)   True  False      rp100  \n",
       "1   POINT (-73.7553 42.65093)  False  False    outside  \n",
       "2  POINT (-73.77375 42.64808)  False  False    outside  \n",
       "3  POINT (-73.84945 42.67324)  False  False    outside  \n",
       "4  POINT (-73.77033 42.64167)  False  False    outside  \n",
       "5  POINT (-73.75194 42.65018)  False  False    outside  \n",
       "6  POINT (-73.74961 42.65229)  False  False    outside  \n",
       "7  POINT (-73.75452 42.65068)  False  False    outside  \n",
       "8    POINT (-73.82853 42.696)  False  False    outside  \n",
       "9  POINT (-73.75803 42.62648)   True  False      rp100  "
      ]
     },
     "execution_count": 14,
     "metadata": {},
     "output_type": "execute_result"
    }
   ],
   "source": [
    "assets['ny_albany']"
   ]
  },
  {
   "cell_type": "code",
   "execution_count": 15,
   "metadata": {},
   "outputs": [
    {
     "data": {
      "text/html": [
       "<div>\n",
       "<style scoped>\n",
       "    .dataframe tbody tr th:only-of-type {\n",
       "        vertical-align: middle;\n",
       "    }\n",
       "\n",
       "    .dataframe tbody tr th {\n",
       "        vertical-align: top;\n",
       "    }\n",
       "\n",
       "    .dataframe thead th {\n",
       "        text-align: right;\n",
       "    }\n",
       "</style>\n",
       "<table border=\"1\" class=\"dataframe\">\n",
       "  <thead>\n",
       "    <tr style=\"text-align: right;\">\n",
       "      <th></th>\n",
       "      <th>id</th>\n",
       "      <th>address</th>\n",
       "      <th>description</th>\n",
       "      <th>geometry</th>\n",
       "      <th>rp100</th>\n",
       "      <th>rp500</th>\n",
       "      <th>flood_zone</th>\n",
       "    </tr>\n",
       "  </thead>\n",
       "  <tbody>\n",
       "    <tr>\n",
       "      <th>0</th>\n",
       "      <td>1</td>\n",
       "      <td>1 Reef Rd, Fairfield, CT 06824</td>\n",
       "      <td>(outside)</td>\n",
       "      <td>POINT (-73.25729 41.14085)</td>\n",
       "      <td>False</td>\n",
       "      <td>False</td>\n",
       "      <td>outside</td>\n",
       "    </tr>\n",
       "    <tr>\n",
       "      <th>1</th>\n",
       "      <td>3</td>\n",
       "      <td>385 Fairfield Beach Rd, Fairfield, CT 06824</td>\n",
       "      <td>(rp100)</td>\n",
       "      <td>POINT (-73.24191 41.1345)</td>\n",
       "      <td>True</td>\n",
       "      <td>False</td>\n",
       "      <td>rp100</td>\n",
       "    </tr>\n",
       "    <tr>\n",
       "      <th>2</th>\n",
       "      <td>10</td>\n",
       "      <td>200 Mill Hill Rd, Southport, CT 06890</td>\n",
       "      <td>(outside)</td>\n",
       "      <td>POINT (-73.28188 41.14281)</td>\n",
       "      <td>False</td>\n",
       "      <td>False</td>\n",
       "      <td>outside</td>\n",
       "    </tr>\n",
       "    <tr>\n",
       "      <th>3</th>\n",
       "      <td>2</td>\n",
       "      <td>100 Pequot Ave, Southport, CT 06890</td>\n",
       "      <td>(outside)</td>\n",
       "      <td>POINT (-73.28131 41.13894)</td>\n",
       "      <td>False</td>\n",
       "      <td>False</td>\n",
       "      <td>outside</td>\n",
       "    </tr>\n",
       "    <tr>\n",
       "      <th>4</th>\n",
       "      <td>8</td>\n",
       "      <td>834 Brookside Dr, Fairfield, CT 06824</td>\n",
       "      <td>(rp500)</td>\n",
       "      <td>POINT (-73.26761 41.17737)</td>\n",
       "      <td>False</td>\n",
       "      <td>False</td>\n",
       "      <td>outside</td>\n",
       "    </tr>\n",
       "    <tr>\n",
       "      <th>5</th>\n",
       "      <td>5</td>\n",
       "      <td>200 Reef Rd, Fairfield, CT 06824</td>\n",
       "      <td>(rp100)</td>\n",
       "      <td>POINT (-73.25617 41.13859)</td>\n",
       "      <td>True</td>\n",
       "      <td>False</td>\n",
       "      <td>rp100</td>\n",
       "    </tr>\n",
       "    <tr>\n",
       "      <th>6</th>\n",
       "      <td>4</td>\n",
       "      <td>6 Alma Dr, Fairfield, CT, 06824, USA</td>\n",
       "      <td>(rp500)</td>\n",
       "      <td>POINT (-73.27168 41.16653)</td>\n",
       "      <td>False</td>\n",
       "      <td>True</td>\n",
       "      <td>rp500</td>\n",
       "    </tr>\n",
       "    <tr>\n",
       "      <th>7</th>\n",
       "      <td>6</td>\n",
       "      <td>308 Alma Dr, Fairfield, CT, 06824, USA</td>\n",
       "      <td>(rp100)</td>\n",
       "      <td>POINT (-73.27027 41.16672)</td>\n",
       "      <td>True</td>\n",
       "      <td>False</td>\n",
       "      <td>rp100</td>\n",
       "    </tr>\n",
       "    <tr>\n",
       "      <th>8</th>\n",
       "      <td>7</td>\n",
       "      <td>1073 N Benson Rd, Fairfield, CT 06824</td>\n",
       "      <td>(outside)</td>\n",
       "      <td>POINT (-73.25282 41.15964)</td>\n",
       "      <td>False</td>\n",
       "      <td>False</td>\n",
       "      <td>outside</td>\n",
       "    </tr>\n",
       "    <tr>\n",
       "      <th>9</th>\n",
       "      <td>9</td>\n",
       "      <td>905 Kings Hwy E, Fairfield, CT 06825</td>\n",
       "      <td>(rp500)</td>\n",
       "      <td>POINT (-73.23335 41.16724)</td>\n",
       "      <td>False</td>\n",
       "      <td>False</td>\n",
       "      <td>outside</td>\n",
       "    </tr>\n",
       "  </tbody>\n",
       "</table>\n",
       "</div>"
      ],
      "text/plain": [
       "   id                                      address description  \\\n",
       "0   1               1 Reef Rd, Fairfield, CT 06824   (outside)   \n",
       "1   3  385 Fairfield Beach Rd, Fairfield, CT 06824     (rp100)   \n",
       "2  10        200 Mill Hill Rd, Southport, CT 06890   (outside)   \n",
       "3   2          100 Pequot Ave, Southport, CT 06890   (outside)   \n",
       "4   8        834 Brookside Dr, Fairfield, CT 06824     (rp500)   \n",
       "5   5             200 Reef Rd, Fairfield, CT 06824     (rp100)   \n",
       "6   4         6 Alma Dr, Fairfield, CT, 06824, USA     (rp500)   \n",
       "7   6       308 Alma Dr, Fairfield, CT, 06824, USA     (rp100)   \n",
       "8   7        1073 N Benson Rd, Fairfield, CT 06824   (outside)   \n",
       "9   9         905 Kings Hwy E, Fairfield, CT 06825     (rp500)   \n",
       "\n",
       "                     geometry  rp100  rp500 flood_zone  \n",
       "0  POINT (-73.25729 41.14085)  False  False    outside  \n",
       "1   POINT (-73.24191 41.1345)   True  False      rp100  \n",
       "2  POINT (-73.28188 41.14281)  False  False    outside  \n",
       "3  POINT (-73.28131 41.13894)  False  False    outside  \n",
       "4  POINT (-73.26761 41.17737)  False  False    outside  \n",
       "5  POINT (-73.25617 41.13859)   True  False      rp100  \n",
       "6  POINT (-73.27168 41.16653)  False   True      rp500  \n",
       "7  POINT (-73.27027 41.16672)   True  False      rp100  \n",
       "8  POINT (-73.25282 41.15964)  False  False    outside  \n",
       "9  POINT (-73.23335 41.16724)  False  False    outside  "
      ]
     },
     "execution_count": 15,
     "metadata": {},
     "output_type": "execute_result"
    }
   ],
   "source": [
    "assets['ct_fairfield']"
   ]
  },
  {
   "cell_type": "markdown",
   "metadata": {},
   "source": [
    "## Plot results for  Fairfield, CT"
   ]
  },
  {
   "cell_type": "code",
   "execution_count": 16,
   "metadata": {},
   "outputs": [],
   "source": [
    "flood_gdf = flood_zones['ct_fairfield']\n",
    "asset_gdf = assets['ct_fairfield']"
   ]
  },
  {
   "cell_type": "code",
   "execution_count": null,
   "metadata": {},
   "outputs": [],
   "source": [
    "# create an interactive map of flood risk using folium (save to HTML file)\n",
    "utils.plot_flood_risk(assets['ct_fairfield'], flood_zones['ct_fairfield'], save_to_filename=\"results/flood_zones_map.html\")"
   ]
  },
  {
   "cell_type": "code",
   "execution_count": 24,
   "metadata": {},
   "outputs": [
    {
     "name": "stderr",
     "output_type": "stream",
     "text": [
      "C:\\Users\\andri\\AppData\\Local\\Temp\\ipykernel_40228\\2733062726.py:2: UserWarning: Column names longer than 10 characters will be truncated when saved to ESRI Shapefile.\n",
      "  asset_gdf.to_file(\"results/esri_shapefile/assets_with_flood_info.shp\", driver=\"ESRI Shapefile\")\n",
      "d:\\_DT\\Prog\\_MyCode\\GIS\\.venv\\Lib\\site-packages\\pyogrio\\raw.py:723: RuntimeWarning: Normalized/laundered field name: 'description' to 'descriptio'\n",
      "  ogr_write(\n"
     ]
    }
   ],
   "source": [
    "# Export to Shapefile (.shp)\n",
    "asset_gdf.to_file(\"results/esri_shapefile/assets_with_flood_info.shp\", driver=\"ESRI Shapefile\")\n",
    "# Export to GeoPackage (.gpkg)\n",
    "asset_gdf.to_file(\"results/assets_with_flood_info.gpkg\", layer=\"assets\", driver=\"GPKG\")"
   ]
  },
  {
   "cell_type": "markdown",
   "metadata": {},
   "source": [
    "# <span style=\"color:red\"> __WIP__ </span>"
   ]
  },
  {
   "cell_type": "markdown",
   "metadata": {},
   "source": [
    "<span style=\"color:red\"> Optional Improvements </span>\n",
    "| Task                                            | Tool                                       |\n",
    "| ----------------------------------------------- | ------------------------------------------ |\n",
    "| Save result shapefile                 | `.to_file(...)` |\n",
    "| More robust spatial join (buffering, proximity) | Use `.buffer()` or distance queries        |\n",
    "|Is there an API to query if a loc's flood zones?| `TBD`|"
   ]
  },
  {
   "cell_type": "code",
   "execution_count": null,
   "metadata": {},
   "outputs": [],
   "source": [
    "# import matplotlib.pyplot as plt\n",
    "\n",
    "# # Spatial join: find assets in flood zone\n",
    "# assets_in_zone = gpd.sjoin(gdf_assets, flood_500, how=\"inner\", predicate=\"intersects\")\n",
    "# assets_out_zone = gdf_assets[~gdf_assets.index.isin(assets_in_zone.index)]\n",
    "\n",
    "# # Plot\n",
    "# fig, ax = plt.subplots(figsize=(10, 10))\n",
    "# flood_500.plot(ax=ax, color='lightblue', alpha=0.5, edgecolor='blue', linewidth=0.5, label='500-yr Flood Zone')\n",
    "# assets_out_zone.plot(ax=ax, color='green', markersize=40, label='Assets Outside Flood Zone')\n",
    "# assets_in_zone.plot(ax=ax, color='red', markersize=40, label='Assets Inside Flood Zone')\n",
    "\n",
    "# plt.legend()\n",
    "# plt.title(\"Asset Exposure to 500-Year Flood Zone\")\n",
    "# plt.axis('off')\n",
    "# plt.show()"
   ]
  },
  {
   "cell_type": "code",
   "execution_count": null,
   "metadata": {},
   "outputs": [],
   "source": []
  }
 ],
 "metadata": {
  "kernelspec": {
   "display_name": ".venv",
   "language": "python",
   "name": "python3"
  },
  "language_info": {
   "codemirror_mode": {
    "name": "ipython",
    "version": 3
   },
   "file_extension": ".py",
   "mimetype": "text/x-python",
   "name": "python",
   "nbconvert_exporter": "python",
   "pygments_lexer": "ipython3",
   "version": "3.13.5"
  }
 },
 "nbformat": 4,
 "nbformat_minor": 2
}
